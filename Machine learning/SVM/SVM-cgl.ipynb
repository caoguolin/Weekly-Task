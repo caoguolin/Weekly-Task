{
 "cells": [
  {
   "cell_type": "markdown",
   "metadata": {},
   "source": [
    "# SVM with Kernel for Iris_data"
   ]
  },
  {
   "cell_type": "markdown",
   "metadata": {},
   "source": [
    "# 1.Data visualization"
   ]
  },
  {
   "cell_type": "code",
   "execution_count": 47,
   "metadata": {},
   "outputs": [],
   "source": [
    "import numpy as np\n",
    "import matplotlib.pyplot as plt\n",
    "from sklearn import svm, datasets\n",
    "\n",
    "iris = datasets.load_iris()\n",
    "X = iris.data[:, :2]\n",
    "y = iris.target"
   ]
  },
  {
   "cell_type": "markdown",
   "metadata": {},
   "source": [
    "#### The only two-dimensional feature of X is to facilitate the visualization of the results after SVM. The final scatter plot is a 2D plan. The horizontal and vertical axes have only two dimensions, so only the length and width of the calyx are taken here. "
   ]
  },
  {
   "cell_type": "code",
   "execution_count": 48,
   "metadata": {},
   "outputs": [
    {
     "name": "stdout",
     "output_type": "stream",
     "text": [
      "[[5.1 3.5]\n",
      " [4.9 3. ]\n",
      " [4.7 3.2]\n",
      " [4.6 3.1]\n",
      " [5.  3.6]\n",
      " [5.4 3.9]\n",
      " [4.6 3.4]\n",
      " [5.  3.4]\n",
      " [4.4 2.9]\n",
      " [4.9 3.1]\n",
      " [5.4 3.7]\n",
      " [4.8 3.4]\n",
      " [4.8 3. ]\n",
      " [4.3 3. ]\n",
      " [5.8 4. ]\n",
      " [5.7 4.4]\n",
      " [5.4 3.9]\n",
      " [5.1 3.5]\n",
      " [5.7 3.8]\n",
      " [5.1 3.8]\n",
      " [5.4 3.4]\n",
      " [5.1 3.7]\n",
      " [4.6 3.6]\n",
      " [5.1 3.3]\n",
      " [4.8 3.4]\n",
      " [5.  3. ]\n",
      " [5.  3.4]\n",
      " [5.2 3.5]\n",
      " [5.2 3.4]\n",
      " [4.7 3.2]\n",
      " [4.8 3.1]\n",
      " [5.4 3.4]\n",
      " [5.2 4.1]\n",
      " [5.5 4.2]\n",
      " [4.9 3.1]\n",
      " [5.  3.2]\n",
      " [5.5 3.5]\n",
      " [4.9 3.6]\n",
      " [4.4 3. ]\n",
      " [5.1 3.4]\n",
      " [5.  3.5]\n",
      " [4.5 2.3]\n",
      " [4.4 3.2]\n",
      " [5.  3.5]\n",
      " [5.1 3.8]\n",
      " [4.8 3. ]\n",
      " [5.1 3.8]\n",
      " [4.6 3.2]\n",
      " [5.3 3.7]\n",
      " [5.  3.3]\n",
      " [7.  3.2]\n",
      " [6.4 3.2]\n",
      " [6.9 3.1]\n",
      " [5.5 2.3]\n",
      " [6.5 2.8]\n",
      " [5.7 2.8]\n",
      " [6.3 3.3]\n",
      " [4.9 2.4]\n",
      " [6.6 2.9]\n",
      " [5.2 2.7]\n",
      " [5.  2. ]\n",
      " [5.9 3. ]\n",
      " [6.  2.2]\n",
      " [6.1 2.9]\n",
      " [5.6 2.9]\n",
      " [6.7 3.1]\n",
      " [5.6 3. ]\n",
      " [5.8 2.7]\n",
      " [6.2 2.2]\n",
      " [5.6 2.5]\n",
      " [5.9 3.2]\n",
      " [6.1 2.8]\n",
      " [6.3 2.5]\n",
      " [6.1 2.8]\n",
      " [6.4 2.9]\n",
      " [6.6 3. ]\n",
      " [6.8 2.8]\n",
      " [6.7 3. ]\n",
      " [6.  2.9]\n",
      " [5.7 2.6]\n",
      " [5.5 2.4]\n",
      " [5.5 2.4]\n",
      " [5.8 2.7]\n",
      " [6.  2.7]\n",
      " [5.4 3. ]\n",
      " [6.  3.4]\n",
      " [6.7 3.1]\n",
      " [6.3 2.3]\n",
      " [5.6 3. ]\n",
      " [5.5 2.5]\n",
      " [5.5 2.6]\n",
      " [6.1 3. ]\n",
      " [5.8 2.6]\n",
      " [5.  2.3]\n",
      " [5.6 2.7]\n",
      " [5.7 3. ]\n",
      " [5.7 2.9]\n",
      " [6.2 2.9]\n",
      " [5.1 2.5]\n",
      " [5.7 2.8]\n",
      " [6.3 3.3]\n",
      " [5.8 2.7]\n",
      " [7.1 3. ]\n",
      " [6.3 2.9]\n",
      " [6.5 3. ]\n",
      " [7.6 3. ]\n",
      " [4.9 2.5]\n",
      " [7.3 2.9]\n",
      " [6.7 2.5]\n",
      " [7.2 3.6]\n",
      " [6.5 3.2]\n",
      " [6.4 2.7]\n",
      " [6.8 3. ]\n",
      " [5.7 2.5]\n",
      " [5.8 2.8]\n",
      " [6.4 3.2]\n",
      " [6.5 3. ]\n",
      " [7.7 3.8]\n",
      " [7.7 2.6]\n",
      " [6.  2.2]\n",
      " [6.9 3.2]\n",
      " [5.6 2.8]\n",
      " [7.7 2.8]\n",
      " [6.3 2.7]\n",
      " [6.7 3.3]\n",
      " [7.2 3.2]\n",
      " [6.2 2.8]\n",
      " [6.1 3. ]\n",
      " [6.4 2.8]\n",
      " [7.2 3. ]\n",
      " [7.4 2.8]\n",
      " [7.9 3.8]\n",
      " [6.4 2.8]\n",
      " [6.3 2.8]\n",
      " [6.1 2.6]\n",
      " [7.7 3. ]\n",
      " [6.3 3.4]\n",
      " [6.4 3.1]\n",
      " [6.  3. ]\n",
      " [6.9 3.1]\n",
      " [6.7 3.1]\n",
      " [6.9 3.1]\n",
      " [5.8 2.7]\n",
      " [6.8 3.2]\n",
      " [6.7 3.3]\n",
      " [6.7 3. ]\n",
      " [6.3 2.5]\n",
      " [6.5 3. ]\n",
      " [6.2 3.4]\n",
      " [5.9 3. ]]\n"
     ]
    }
   ],
   "source": [
    "print(X)"
   ]
  },
  {
   "cell_type": "code",
   "execution_count": 49,
   "metadata": {},
   "outputs": [
    {
     "name": "stdout",
     "output_type": "stream",
     "text": [
      "[0 0 0 0 0 0 0 0 0 0 0 0 0 0 0 0 0 0 0 0 0 0 0 0 0 0 0 0 0 0 0 0 0 0 0 0 0\n",
      " 0 0 0 0 0 0 0 0 0 0 0 0 0 1 1 1 1 1 1 1 1 1 1 1 1 1 1 1 1 1 1 1 1 1 1 1 1\n",
      " 1 1 1 1 1 1 1 1 1 1 1 1 1 1 1 1 1 1 1 1 1 1 1 1 1 1 2 2 2 2 2 2 2 2 2 2 2\n",
      " 2 2 2 2 2 2 2 2 2 2 2 2 2 2 2 2 2 2 2 2 2 2 2 2 2 2 2 2 2 2 2 2 2 2 2 2 2\n",
      " 2 2]\n"
     ]
    }
   ],
   "source": [
    "print(y)"
   ]
  },
  {
   "cell_type": "markdown",
   "metadata": {},
   "source": [
    "#### It should be noted that y has only three values of 0, 1, and 2, which corresponds to only three categories in the classification problem."
   ]
  },
  {
   "cell_type": "code",
   "execution_count": 50,
   "metadata": {},
   "outputs": [
    {
     "name": "stderr",
     "output_type": "stream",
     "text": [
      "C:\\Users\\caoguolin\\Anaconda3\\lib\\site-packages\\sklearn\\svm\\base.py:929: ConvergenceWarning: Liblinear failed to converge, increase the number of iterations.\n",
      "  \"the number of iterations.\", ConvergenceWarning)\n"
     ]
    }
   ],
   "source": [
    "h = .02  # 网格中的步长\n",
    "\n",
    "# 创建支持向量机实例，并拟合出数据\n",
    "C = 1.0  # SVM正则化参数\n",
    "svc = svm.SVC(kernel='linear', C=C).fit(X, y) # 线性核\n",
    "rbf_svc = svm.SVC(kernel='rbf', gamma=0.7, C=C).fit(X, y) # 径向基核\n",
    "poly_svc = svm.SVC(kernel='poly', gamma='auto',degree=3, C=C).fit(X, y) # 多项式核\n",
    "lin_svc = svm.LinearSVC(C=C).fit(X, y) #线性核"
   ]
  },
  {
   "cell_type": "markdown",
   "metadata": {},
   "source": [
    "#### There are four SVM models set here, which are linear kernel, Gaussian kernel, polynomial kernel and linear SVM. The difference between the first kernel and the fourth is that one is a linear kernel SVM and one is a linear SVM. The decision boundaries of the two are slightly different. The difference is that the former minimizes the squared loss of the hinge function, the latter minimizes the loss of the hinge function, and the former uses 1: 1 to classify, while the latter uses 1 to all to classify."
   ]
  },
  {
   "cell_type": "code",
   "execution_count": 51,
   "metadata": {},
   "outputs": [
    {
     "data": {
      "image/png": "[encoded data removed]",
      "text/plain": [
       "<Figure size 432x288 with 4 Axes>"
      ]
     },
     "metadata": {},
     "output_type": "display_data"
    }
   ],
   "source": [
    "# 创建网格，以绘制图像\n",
    "x_min, x_max = X[:, 0].min() - 1, X[:, 0].max() + 1\n",
    "y_min, y_max = X[:, 1].min() - 1, X[:, 1].max() + 1\n",
    "xx, yy = np.meshgrid(np.arange(x_min, x_max, h),\n",
    "                     np.arange(y_min, y_max, h))\n",
    "\n",
    "# 图的标题\n",
    "titles = ['SVC with linear kernel',\n",
    "          'LinearSVC (linear kernel)',\n",
    "          'SVC with RBF kernel',\n",
    "          'SVC with polynomial (degree 3) kernel']\n",
    "\n",
    "\n",
    "for i, clf in enumerate((svc, lin_svc, rbf_svc, poly_svc)):\n",
    "    # 绘出决策边界，不同的区域分配不同的颜色\n",
    "    plt.subplot(2, 2, i + 1) # 创建一个2行2列的图，并以第i个图为当前图\n",
    "    plt.subplots_adjust(wspace=0.4, hspace=0.4) # 设置子图间隔\n",
    "\n",
    "    Z = clf.predict(np.c_[xx.ravel(), yy.ravel()]) #将xx和yy中的元素组成一对对坐标，作为支持向量机的输入，返回一个array\n",
    "    \n",
    "    # 把分类结果绘制出来\n",
    "    Z = Z.reshape(xx.shape) #(220, 280)\n",
    "    plt.contourf(xx, yy, Z, cmap=plt.cm.Paired, alpha=0.8) #使用等高线的函数将不同的区域绘制出来\n",
    "\n",
    "    # 将训练数据以离散点的形式绘制出来\n",
    "    plt.scatter(X[:, 0], X[:, 1], c=y, cmap=plt.cm.Paired)\n",
    "    plt.xlabel('Sepal length')\n",
    "    plt.ylabel('Sepal width')\n",
    "    plt.xlim(xx.min(), xx.max())\n",
    "    plt.ylim(yy.min(), yy.max())\n",
    "    plt.xticks(())\n",
    "    plt.yticks(())\n",
    "    plt.title(titles[i])\n",
    "\n",
    "plt.show()"
   ]
  },
  {
   "cell_type": "markdown",
   "metadata": {},
   "source": [
    "#### The above four graphs are the scatter plots of the results of the four types of SVM training. It can be found from the images that the boundaries of the four SVMs are different. The linear kernel SVM and the linear SVM boundary are linear, while the Gaussian kernel SVM The boundary of the sum polynomial kernel SVM is non-linear. The specific shape of these curve boundaries depends on the kernel function and the parameters of the kernel function."
   ]
  },
  {
   "cell_type": "markdown",
   "metadata": {},
   "source": [
    "## Summary:"
   ]
  },
  {
   "cell_type": "markdown",
   "metadata": {},
   "source": [
    "#### This part is a simple example of processing Iris_data for the four SVN models. The parameters of the model are basically the default parameters, mainly to show the SVM process and the characteristics of the four models. Although the final drawing reflects their own characteristics, the accuracy is not high, and only two-dimensional features are taken here because high-dimensional features cannot be used for mapping.\n",
    "\n"
   ]
  },
  {
   "cell_type": "markdown",
   "metadata": {},
   "source": [
    "# 2.Model performance comparison"
   ]
  },
  {
   "cell_type": "code",
   "execution_count": 52,
   "metadata": {},
   "outputs": [],
   "source": [
    "import time \n",
    "import numpy as np\n",
    "import pandas as pd\n",
    "import matplotlib as mpl\n",
    "import matplotlib.pyplot as plt\n",
    "from sklearn.svm import SVC\n",
    "from sklearn.model_selection import train_test_split\n",
    "from sklearn.metrics import accuracy_score\n",
    "from sklearn import datasets\n",
    "\n",
    "#乱码设置\n",
    "## 设置属性防止中文乱码\n",
    "mpl.rcParams['font.sans-serif'] = [u'SimHei']\n",
    "mpl.rcParams['axes.unicode_minus'] = False\n",
    "\n",
    "iris = datasets.load_iris()\n",
    "x = iris.data\n",
    "y = iris.target"
   ]
  },
  {
   "cell_type": "markdown",
   "metadata": {},
   "source": [
    "#### Import some necessary packages, including data segmentation module, model result evaluation module, drawing module, time module, model module, data source module, etc."
   ]
  },
  {
   "cell_type": "code",
   "execution_count": 53,
   "metadata": {},
   "outputs": [
    {
     "name": "stdout",
     "output_type": "stream",
     "text": [
      "[[5.1 3.5 1.4 0.2]\n",
      " [4.9 3.  1.4 0.2]\n",
      " [4.7 3.2 1.3 0.2]\n",
      " [4.6 3.1 1.5 0.2]\n",
      " [5.  3.6 1.4 0.2]\n",
      " [5.4 3.9 1.7 0.4]\n",
      " [4.6 3.4 1.4 0.3]\n",
      " [5.  3.4 1.5 0.2]\n",
      " [4.4 2.9 1.4 0.2]\n",
      " [4.9 3.1 1.5 0.1]\n",
      " [5.4 3.7 1.5 0.2]\n",
      " [4.8 3.4 1.6 0.2]\n",
      " [4.8 3.  1.4 0.1]\n",
      " [4.3 3.  1.1 0.1]\n",
      " [5.8 4.  1.2 0.2]\n",
      " [5.7 4.4 1.5 0.4]\n",
      " [5.4 3.9 1.3 0.4]\n",
      " [5.1 3.5 1.4 0.3]\n",
      " [5.7 3.8 1.7 0.3]\n",
      " [5.1 3.8 1.5 0.3]\n",
      " [5.4 3.4 1.7 0.2]\n",
      " [5.1 3.7 1.5 0.4]\n",
      " [4.6 3.6 1.  0.2]\n",
      " [5.1 3.3 1.7 0.5]\n",
      " [4.8 3.4 1.9 0.2]\n",
      " [5.  3.  1.6 0.2]\n",
      " [5.  3.4 1.6 0.4]\n",
      " [5.2 3.5 1.5 0.2]\n",
      " [5.2 3.4 1.4 0.2]\n",
      " [4.7 3.2 1.6 0.2]\n",
      " [4.8 3.1 1.6 0.2]\n",
      " [5.4 3.4 1.5 0.4]\n",
      " [5.2 4.1 1.5 0.1]\n",
      " [5.5 4.2 1.4 0.2]\n",
      " [4.9 3.1 1.5 0.2]\n",
      " [5.  3.2 1.2 0.2]\n",
      " [5.5 3.5 1.3 0.2]\n",
      " [4.9 3.6 1.4 0.1]\n",
      " [4.4 3.  1.3 0.2]\n",
      " [5.1 3.4 1.5 0.2]\n",
      " [5.  3.5 1.3 0.3]\n",
      " [4.5 2.3 1.3 0.3]\n",
      " [4.4 3.2 1.3 0.2]\n",
      " [5.  3.5 1.6 0.6]\n",
      " [5.1 3.8 1.9 0.4]\n",
      " [4.8 3.  1.4 0.3]\n",
      " [5.1 3.8 1.6 0.2]\n",
      " [4.6 3.2 1.4 0.2]\n",
      " [5.3 3.7 1.5 0.2]\n",
      " [5.  3.3 1.4 0.2]\n",
      " [7.  3.2 4.7 1.4]\n",
      " [6.4 3.2 4.5 1.5]\n",
      " [6.9 3.1 4.9 1.5]\n",
      " [5.5 2.3 4.  1.3]\n",
      " [6.5 2.8 4.6 1.5]\n",
      " [5.7 2.8 4.5 1.3]\n",
      " [6.3 3.3 4.7 1.6]\n",
      " [4.9 2.4 3.3 1. ]\n",
      " [6.6 2.9 4.6 1.3]\n",
      " [5.2 2.7 3.9 1.4]\n",
      " [5.  2.  3.5 1. ]\n",
      " [5.9 3.  4.2 1.5]\n",
      " [6.  2.2 4.  1. ]\n",
      " [6.1 2.9 4.7 1.4]\n",
      " [5.6 2.9 3.6 1.3]\n",
      " [6.7 3.1 4.4 1.4]\n",
      " [5.6 3.  4.5 1.5]\n",
      " [5.8 2.7 4.1 1. ]\n",
      " [6.2 2.2 4.5 1.5]\n",
      " [5.6 2.5 3.9 1.1]\n",
      " [5.9 3.2 4.8 1.8]\n",
      " [6.1 2.8 4.  1.3]\n",
      " [6.3 2.5 4.9 1.5]\n",
      " [6.1 2.8 4.7 1.2]\n",
      " [6.4 2.9 4.3 1.3]\n",
      " [6.6 3.  4.4 1.4]\n",
      " [6.8 2.8 4.8 1.4]\n",
      " [6.7 3.  5.  1.7]\n",
      " [6.  2.9 4.5 1.5]\n",
      " [5.7 2.6 3.5 1. ]\n",
      " [5.5 2.4 3.8 1.1]\n",
      " [5.5 2.4 3.7 1. ]\n",
      " [5.8 2.7 3.9 1.2]\n",
      " [6.  2.7 5.1 1.6]\n",
      " [5.4 3.  4.5 1.5]\n",
      " [6.  3.4 4.5 1.6]\n",
      " [6.7 3.1 4.7 1.5]\n",
      " [6.3 2.3 4.4 1.3]\n",
      " [5.6 3.  4.1 1.3]\n",
      " [5.5 2.5 4.  1.3]\n",
      " [5.5 2.6 4.4 1.2]\n",
      " [6.1 3.  4.6 1.4]\n",
      " [5.8 2.6 4.  1.2]\n",
      " [5.  2.3 3.3 1. ]\n",
      " [5.6 2.7 4.2 1.3]\n",
      " [5.7 3.  4.2 1.2]\n",
      " [5.7 2.9 4.2 1.3]\n",
      " [6.2 2.9 4.3 1.3]\n",
      " [5.1 2.5 3.  1.1]\n",
      " [5.7 2.8 4.1 1.3]\n",
      " [6.3 3.3 6.  2.5]\n",
      " [5.8 2.7 5.1 1.9]\n",
      " [7.1 3.  5.9 2.1]\n",
      " [6.3 2.9 5.6 1.8]\n",
      " [6.5 3.  5.8 2.2]\n",
      " [7.6 3.  6.6 2.1]\n",
      " [4.9 2.5 4.5 1.7]\n",
      " [7.3 2.9 6.3 1.8]\n",
      " [6.7 2.5 5.8 1.8]\n",
      " [7.2 3.6 6.1 2.5]\n",
      " [6.5 3.2 5.1 2. ]\n",
      " [6.4 2.7 5.3 1.9]\n",
      " [6.8 3.  5.5 2.1]\n",
      " [5.7 2.5 5.  2. ]\n",
      " [5.8 2.8 5.1 2.4]\n",
      " [6.4 3.2 5.3 2.3]\n",
      " [6.5 3.  5.5 1.8]\n",
      " [7.7 3.8 6.7 2.2]\n",
      " [7.7 2.6 6.9 2.3]\n",
      " [6.  2.2 5.  1.5]\n",
      " [6.9 3.2 5.7 2.3]\n",
      " [5.6 2.8 4.9 2. ]\n",
      " [7.7 2.8 6.7 2. ]\n",
      " [6.3 2.7 4.9 1.8]\n",
      " [6.7 3.3 5.7 2.1]\n",
      " [7.2 3.2 6.  1.8]\n",
      " [6.2 2.8 4.8 1.8]\n",
      " [6.1 3.  4.9 1.8]\n",
      " [6.4 2.8 5.6 2.1]\n",
      " [7.2 3.  5.8 1.6]\n",
      " [7.4 2.8 6.1 1.9]\n",
      " [7.9 3.8 6.4 2. ]\n",
      " [6.4 2.8 5.6 2.2]\n",
      " [6.3 2.8 5.1 1.5]\n",
      " [6.1 2.6 5.6 1.4]\n",
      " [7.7 3.  6.1 2.3]\n",
      " [6.3 3.4 5.6 2.4]\n",
      " [6.4 3.1 5.5 1.8]\n",
      " [6.  3.  4.8 1.8]\n",
      " [6.9 3.1 5.4 2.1]\n",
      " [6.7 3.1 5.6 2.4]\n",
      " [6.9 3.1 5.1 2.3]\n",
      " [5.8 2.7 5.1 1.9]\n",
      " [6.8 3.2 5.9 2.3]\n",
      " [6.7 3.3 5.7 2.5]\n",
      " [6.7 3.  5.2 2.3]\n",
      " [6.3 2.5 5.  1.9]\n",
      " [6.5 3.  5.2 2. ]\n",
      " [6.2 3.4 5.4 2.3]\n",
      " [5.9 3.  5.1 1.8]]\n"
     ]
    }
   ],
   "source": [
    "print(x)"
   ]
  },
  {
   "cell_type": "code",
   "execution_count": 54,
   "metadata": {},
   "outputs": [
    {
     "name": "stdout",
     "output_type": "stream",
     "text": [
      "[0 0 0 0 0 0 0 0 0 0 0 0 0 0 0 0 0 0 0 0 0 0 0 0 0 0 0 0 0 0 0 0 0 0 0 0 0\n",
      " 0 0 0 0 0 0 0 0 0 0 0 0 0 1 1 1 1 1 1 1 1 1 1 1 1 1 1 1 1 1 1 1 1 1 1 1 1\n",
      " 1 1 1 1 1 1 1 1 1 1 1 1 1 1 1 1 1 1 1 1 1 1 1 1 1 1 2 2 2 2 2 2 2 2 2 2 2\n",
      " 2 2 2 2 2 2 2 2 2 2 2 2 2 2 2 2 2 2 2 2 2 2 2 2 2 2 2 2 2 2 2 2 2 2 2 2 2\n",
      " 2 2]\n"
     ]
    }
   ],
   "source": [
    "print(y)"
   ]
  },
  {
   "cell_type": "markdown",
   "metadata": {},
   "source": [
    "#### The three values of y still represent the three categories of iris."
   ]
  },
  {
   "cell_type": "code",
   "execution_count": 55,
   "metadata": {},
   "outputs": [],
   "source": [
    "#将y转化为数字标签\n",
    "y=pd.Categorical(y).codes\n",
    "\n",
    "\n",
    "x_train,x_test,y_train,y_test=train_test_split(x,y,random_state=88,train_size=0.7)\n",
    "\n",
    "\n",
    "svm1 = SVC(C=1, kernel='linear',gamma='auto')\n",
    "svm2 = SVC(C=1, kernel='rbf',gamma='auto')\n",
    "svm3 = SVC(C=1, kernel='poly',gamma='auto')\n",
    "svm4 = SVC(C=1, kernel='sigmoid',gamma='auto')"
   ]
  },
  {
   "cell_type": "markdown",
   "metadata": {},
   "source": [
    "#### Segment the data set and build the kernel SVM model. There are still four models: linear kernel SVM, Gaussian kernel SVM, polynomial kernel SVM, and sigmoid kernel SVM. The parameters are still set here as default parameters."
   ]
  },
  {
   "cell_type": "code",
   "execution_count": 56,
   "metadata": {},
   "outputs": [],
   "source": [
    "t0=time.time()\n",
    "svm1.fit(x_train,y_train)\n",
    "t1=time.time()\n",
    "svm2.fit(x_train,y_train)\n",
    "t2=time.time()\n",
    "svm3.fit(x_train,y_train)\n",
    "t3=time.time()\n",
    "svm4.fit(x_train,y_train)\n",
    "t4=time.time()"
   ]
  },
  {
   "cell_type": "markdown",
   "metadata": {},
   "source": [
    "#### Model training and setting time points"
   ]
  },
  {
   "cell_type": "code",
   "execution_count": 57,
   "metadata": {},
   "outputs": [
    {
     "name": "stdout",
     "output_type": "stream",
     "text": [
      "SVM-linear的运行时间：0.001998424530029297\n",
      "SVM-rbf的运行时间：0.0009996891021728516\n",
      "SVM-poly的运行时间：0.001001119613647461\n",
      "SVM-sigmoid的运行时间：0.0019974708557128906\n"
     ]
    }
   ],
   "source": [
    "print(\"SVM-linear的运行时间：\"+str(t1-t0))\n",
    "print(\"SVM-rbf的运行时间：\"+str(t2-t1))\n",
    "print(\"SVM-poly的运行时间：\"+str(t3-t2))\n",
    "print(\"SVM-sigmoid的运行时间：\"+str(t4-t3))"
   ]
  },
  {
   "cell_type": "markdown",
   "metadata": {},
   "source": [
    "#### Output the running time of the four models. "
   ]
  },
  {
   "cell_type": "code",
   "execution_count": 61,
   "metadata": {},
   "outputs": [],
   "source": [
    "svm1_train_score=accuracy_score(y_train,svm1.predict(x_train))\n",
    "svm1_test_score=accuracy_score(y_test,svm1.predict(x_test))\n",
    "svm2_train_score=accuracy_score(y_train,svm2.predict(x_train))\n",
    "svm2_test_score=accuracy_score(y_test,svm2.predict(x_test))\n",
    "svm3_train_score=accuracy_score(y_train,svm3.predict(x_train))\n",
    "svm3_test_score=accuracy_score(y_test,svm3.predict(x_test))\n",
    "svm4_train_score=accuracy_score(y_train,svm4.predict(x_train))\n",
    "svm4_test_score=accuracy_score(y_test,svm4.predict(x_test))"
   ]
  },
  {
   "cell_type": "markdown",
   "metadata": {},
   "source": [
    "#### The model result evaluation module is introduced to evaluate the training set score and test set score of each kernel SVM model."
   ]
  },
  {
   "cell_type": "code",
   "execution_count": 62,
   "metadata": {},
   "outputs": [
    {
     "name": "stdout",
     "output_type": "stream",
     "text": [
      "SVM-linear的训练集准确率：0.9809523809523809\n",
      "SVM-linear的测试集准确率：0.9777777777777777\n",
      "SVM-rbf的训练集准确率：0.9904761904761905\n",
      "SVM-rbf的测试集准确率：0.9333333333333333\n",
      "SVM-poly的训练集准确率：1.0\n",
      "SVM-poly的测试集准确率：0.9333333333333333\n",
      "SVM-sigmoid的训练集准确率：0.37142857142857144\n",
      "SVM-sigmoid的测试集准确率：0.24444444444444444\n"
     ]
    }
   ],
   "source": [
    "print(\"SVM-linear的训练集准确率：\"+str(svm1_train_score))\n",
    "print(\"SVM-linear的测试集准确率：\"+str(svm1_test_score))\n",
    "print(\"SVM-rbf的训练集准确率：\"+str(svm2_train_score))\n",
    "print(\"SVM-rbf的测试集准确率：\"+str(svm2_test_score))\n",
    "print(\"SVM-poly的训练集准确率：\"+str(svm3_train_score))\n",
    "print(\"SVM-poly的测试集准确率：\"+str(svm3_test_score))\n",
    "print(\"SVM-sigmoid的训练集准确率：\"+str(svm4_train_score))\n",
    "print(\"SVM-sigmoid的测试集准确率：\"+str(svm4_test_score))"
   ]
  },
  {
   "cell_type": "markdown",
   "metadata": {},
   "source": [
    "#### There are a total of eight scores, corresponding to the training and test sets of the four models. You can see that the output is not intuitive enough, so you need to graph it."
   ]
  },
  {
   "cell_type": "code",
   "execution_count": 63,
   "metadata": {},
   "outputs": [
    {
     "data": {
      "image/png": "[encoded data removed]",
      "text/plain": [
       "<Figure size 864x432 with 2 Axes>"
      ]
     },
     "metadata": {},
     "output_type": "display_data"
    }
   ],
   "source": [
    "#设置X轴，y轴\n",
    "x_tmp=[0,1,2,3]\n",
    "y_train_tmp=[svm1_train_score,svm2_train_score,svm3_train_score,svm4_train_score]\n",
    "y_test_tmp=[svm1_test_score,svm2_test_score,svm3_test_score,svm4_test_score]\n",
    "y_score=[t1-t0,t2-t1,t3-t2,t4-t3]\n",
    "\n",
    "#设置尺寸和颜色\n",
    "plt.figure(facecolor='w',figsize=(12,6))\n",
    "\n",
    "#subplot是用来分割画布，分割成一行两列，用第一列的来画图\n",
    "a=plt.subplot(121)\n",
    "\n",
    "#绘图\n",
    "plt.plot(x_tmp,y_train_tmp,'r-',lw=2,label=u'训练集准确率')\n",
    "plt.plot(x_tmp,y_test_tmp,'g-',lw=2,label=u'测试集准确率')\n",
    "\n",
    "#设置两个图形的解释\n",
    "plt.legend(loc='lower left')\n",
    "\n",
    "#plt.title(u'模型预测准确率', fontsize=13)\n",
    "plt.xticks(x_tmp, [u'linear-SVM', u'rbf-SVM', u'poly-SVM', u'sigmoid-SVM'], rotation=0)\n",
    "\n",
    "#开启网格线\n",
    "plt.grid(b=True)\n",
    "\n",
    "#第二个图，分割成一行两列，第二列来画图\n",
    "b=plt.subplot(122)\n",
    "\n",
    "plt.plot(x_tmp, y_score, 'b-', lw=2, label=u'模型训练时间')\n",
    "\n",
    "#给x赋予标签\n",
    "plt.xticks(x_tmp, [u'linear-SVM', u'rbf-SVM', u'poly-SVM', u'sigmoid-SVM'], rotation=0)\n",
    "plt.legend(loc='lower left')\n",
    "\n",
    "plt.grid(b=True)\n",
    "\n",
    "#大标题suptitle\n",
    "plt.suptitle(u'鸢尾花数据SVM分类器不同内核函数模型比较', fontsize=16)\n",
    "a.set_title(u'预测准确率')\n",
    "b.set_title(u'模型运行时间')\n",
    "plt.show()"
   ]
  },
  {
   "cell_type": "markdown",
   "metadata": {},
   "source": [
    "#### By plotting, we can more intuitively find the performance characteristics of the four kernel SVM models. For the iris data set, with the default parameters, the polynomial kernel SVM has a high score, and the linear kernel SVM has a fast speed. The performance of the sigmoid kernel SVM is not optimistic."
   ]
  },
  {
   "cell_type": "markdown",
   "metadata": {},
   "source": [
    "#### In order to make the accuracy of the model prediction results more intuitive, the original results and the prediction results are compared. Here take the linear kernel SVM of the four kernel SVMs as an example:"
   ]
  },
  {
   "cell_type": "code",
   "execution_count": 64,
   "metadata": {},
   "outputs": [
    {
     "name": "stdout",
     "output_type": "stream",
     "text": [
      "SVM-linear的训练集准确率：0.9809523809523809\n",
      "[(2, 2), (1, 1), (0, 0), (2, 2), (0, 0), (2, 2), (1, 1), (1, 1), (0, 0), (0, 0), (2, 2), (1, 1), (2, 2), (2, 2), (1, 1), (0, 0), (1, 1), (2, 2), (1, 1), (1, 2), (1, 1), (1, 1), (0, 0), (0, 0), (1, 1), (0, 0), (1, 1), (0, 0), (2, 2), (0, 0), (2, 2), (0, 0), (0, 0), (2, 2), (1, 1), (0, 0), (1, 1), (2, 2), (2, 2), (1, 1), (0, 0), (1, 1), (1, 1), (0, 0), (1, 1), (1, 1), (0, 0), (1, 1), (1, 1), (1, 1), (2, 2), (2, 2), (2, 2), (0, 0), (0, 0), (1, 1), (2, 2), (2, 2), (1, 1), (1, 1), (0, 0), (0, 0), (1, 1), (2, 2), (0, 0), (0, 0), (1, 1), (0, 0), (2, 2), (0, 0), (2, 2), (1, 1), (0, 0), (0, 0), (2, 2), (0, 0), (2, 2), (0, 0), (2, 2), (0, 0), (2, 2), (2, 2), (1, 1), (0, 0), (2, 2), (0, 0), (1, 1), (1, 1), (1, 1), (0, 0), (1, 2), (0, 0), (1, 1), (1, 1), (1, 1), (2, 2), (1, 1), (0, 0), (2, 2), (2, 2), (1, 1), (1, 1), (2, 2), (2, 2), (0, 0)]\n"
     ]
    }
   ],
   "source": [
    "print(\"SVM-linear的训练集准确率：\"+str(svm1_train_score))\n",
    "\n",
    "#将原始结果与训练集预测结果进行对比：\n",
    "y_train_hat=svm1.predict(x_train)\n",
    "y_train_1d=y_train.reshape((-1))\n",
    "comp=zip(y_train_1d,y_train_hat) \n",
    "#用zip把原始结果和预测结果放在一起。显示如下：\n",
    "\n",
    "print(list(comp))"
   ]
  },
  {
   "cell_type": "code",
   "execution_count": 65,
   "metadata": {},
   "outputs": [
    {
     "name": "stdout",
     "output_type": "stream",
     "text": [
      "SVM-linear的测试集准确率：0.9777777777777777\n",
      "[(1, 1), (2, 2), (0, 0), (0, 0), (1, 1), (0, 0), (1, 1), (2, 2), (2, 2), (1, 1), (0, 0), (1, 1), (1, 1), (2, 2), (2, 2), (1, 1), (0, 0), (0, 0), (2, 2), (0, 0), (0, 0), (2, 2), (2, 2), (1, 1), (2, 2), (2, 2), (0, 0), (2, 2), (1, 1), (2, 2), (0, 0), (0, 0), (0, 0), (2, 1), (1, 1), (2, 2), (0, 0), (2, 2), (0, 0), (2, 2), (2, 2), (2, 2), (2, 2), (0, 0), (1, 1)]\n"
     ]
    }
   ],
   "source": [
    "#同样的,可以用训练好的模型对测试集的数据进行预测:\n",
    "\n",
    "print(\"SVM-linear的测试集准确率：\"+str(svm1_test_score))\n",
    "\n",
    "y_test_hat=svm1.predict(x_test)\n",
    "y_test_1d=y_test.reshape((-1))\n",
    "comp=zip(y_test_1d,y_test_hat)\n",
    "\n",
    "print(list(comp))"
   ]
  },
  {
   "cell_type": "markdown",
   "metadata": {},
   "source": [
    "#### The two arrays output above correspond to the training set and test set of the linear kernel SVM respectively. It should be noted that each cell in each array contains two numbers, which respectively represent the actual y and the predicted y. It is not a regression problem, but a classification problem. Don't forget that y has only three types of values, which represent three categories. So this can be very intuitive to see the accuracy of the prediction results of the linear kernel SVM."
   ]
  },
  {
   "cell_type": "markdown",
   "metadata": {},
   "source": [
    "#### Visualize this result further"
   ]
  },
  {
   "cell_type": "code",
   "execution_count": 66,
   "metadata": {},
   "outputs": [
    {
     "data": {
      "text/plain": [
       "<matplotlib.collections.PathCollection at 0x238e6b074e0>"
      ]
     },
     "execution_count": 66,
     "metadata": {},
     "output_type": "execute_result"
    },
    {
     "data": {
      "image/png": "[encoded data removed]",
      "text/plain": [
       "<Figure size 432x288 with 2 Axes>"
      ]
     },
     "metadata": {},
     "output_type": "display_data"
    }
   ],
   "source": [
    "plt.figure()\n",
    "plt.subplot(121)\n",
    "plt.scatter(x_train[:,0],x_train[:,1],c=y_train.reshape((-1)),edgecolors='k',s=50)\n",
    "plt.subplot(122)\n",
    "plt.scatter(x_train[:,0],x_train[:,1],c=y_train_hat.reshape((-1)),edgecolors='k',s=50)"
   ]
  },
  {
   "cell_type": "markdown",
   "metadata": {},
   "source": [
    "#### It can be seen that the changes in the left and right images are not obvious here because the scores of the test set and the training set are high, and the difference between the two scores is small, so the difference in the response is also small. For example, if the model is trained Set and test set results are very different, then the changes in the response to the image will be very intuitive."
   ]
  },
  {
   "cell_type": "markdown",
   "metadata": {},
   "source": [
    "## Summary："
   ]
  },
  {
   "cell_type": "markdown",
   "metadata": {},
   "source": [
    "#### This section compares the performance characteristics of the four SVM models: linear kernel SVM, Gaussian kernel SVM, polynomial kernel SVM, and sigmoid kernel SVM. Rate and show it in a more intuitive way."
   ]
  },
  {
   "cell_type": "markdown",
   "metadata": {},
   "source": [
    "# 3.SVM tuning in the pipeline"
   ]
  },
  {
   "cell_type": "code",
   "execution_count": 3,
   "metadata": {},
   "outputs": [
    {
     "name": "stdout",
     "output_type": "stream",
     "text": [
      "[0.9666666666666667, 0.9666666666666667, 0.9666666666666667, 0.9833333333333333, 0.975, 0.975, 0.975, 0.9666666666666667, 0.9666666666666667, 0.9833333333333333, 0.975, 0.975, 0.9666666666666667, 0.9666666666666667, 0.9833333333333333, 0.95, 0.975, 0.9666666666666667, 0.975, 0.9833333333333333, 0.975, 0.9666666666666667, 0.9666666666666667, 0.9916666666666667, 0.9833333333333333, 0.975, 0.9666666666666667, 0.9666666666666667, 0.9666666666666667, 0.975, 0.9666666666666667, 0.9833333333333333, 0.9666666666666667, 0.975, 0.975, 0.9833333333333333, 0.9666666666666667, 0.975, 0.975, 0.9916666666666667, 0.9666666666666667, 0.9666666666666667, 0.9666666666666667, 0.975, 0.975, 0.9833333333333333, 0.9583333333333334, 0.9666666666666667, 0.9916666666666667, 0.9666666666666667, 0.9666666666666667, 0.975, 0.975, 0.975, 0.975, 0.9833333333333333, 0.9666666666666667, 0.975, 0.9666666666666667, 0.975, 0.9833333333333333, 0.975, 0.9666666666666667, 0.9583333333333334, 0.9583333333333334, 0.9833333333333333, 0.9666666666666667, 0.975, 0.9916666666666667, 0.9666666666666667, 0.975, 0.9666666666666667, 0.975, 0.975, 0.9666666666666667, 0.9666666666666667, 0.9666666666666667, 0.9666666666666667, 0.975, 0.9666666666666667, 0.9666666666666667, 0.9916666666666667, 0.975, 0.975, 0.9666666666666667, 0.975, 0.9916666666666667, 0.975, 0.975, 0.975, 0.9666666666666667, 0.9833333333333333, 0.9666666666666667, 0.9583333333333334, 0.975, 0.975, 0.9666666666666667, 0.9666666666666667, 0.975, 0.975]\n",
      "[0.9333333333333333, 1.0, 0.9666666666666667, 0.9666666666666667, 0.9333333333333333, 0.9333333333333333, 1.0, 0.9666666666666667, 0.9666666666666667, 0.8666666666666667, 0.9666666666666667, 1.0, 0.9666666666666667, 0.9666666666666667, 0.9666666666666667, 1.0, 0.9333333333333333, 1.0, 0.9666666666666667, 0.9333333333333333, 0.9666666666666667, 0.9333333333333333, 0.9333333333333333, 0.9333333333333333, 0.9, 0.9666666666666667, 0.9666666666666667, 1.0, 0.9, 0.9333333333333333, 0.9666666666666667, 0.9, 0.9666666666666667, 0.9666666666666667, 0.9333333333333333, 0.9666666666666667, 0.9, 0.9, 0.9666666666666667, 0.9333333333333333, 0.9333333333333333, 0.9333333333333333, 0.9333333333333333, 0.9666666666666667, 0.9333333333333333, 1.0, 1.0, 1.0, 0.9, 0.9333333333333333, 0.9666666666666667, 0.9666666666666667, 0.9666666666666667, 1.0, 0.9666666666666667, 0.9, 0.9666666666666667, 1.0, 0.9666666666666667, 1.0, 0.9666666666666667, 0.9333333333333333, 0.9666666666666667, 1.0, 0.9666666666666667, 0.9666666666666667, 0.9666666666666667, 0.9, 0.9333333333333333, 0.9666666666666667, 0.9666666666666667, 0.9666666666666667, 0.9666666666666667, 1.0, 1.0, 0.9666666666666667, 0.9, 0.9333333333333333, 1.0, 1.0, 0.9666666666666667, 0.9, 1.0, 0.9666666666666667, 0.9666666666666667, 1.0, 0.8333333333333334, 1.0, 0.9666666666666667, 0.9666666666666667, 0.9666666666666667, 0.9333333333333333, 1.0, 0.9666666666666667, 1.0, 0.9666666666666667, 0.9666666666666667, 1.0, 0.9, 0.9333333333333333]\n"
     ]
    }
   ],
   "source": [
    "from sklearn.model_selection import GridSearchCV\n",
    "from sklearn.model_selection import train_test_split\n",
    "from sklearn.svm import SVC\n",
    "from sklearn.preprocessing import StandardScaler\n",
    "from sklearn.pipeline import make_pipeline\n",
    "from sklearn.datasets import load_iris\n",
    "import numpy as np\n",
    "import matplotlib.pyplot as plt\n",
    "\n",
    "iris = load_iris()\n",
    "X, y = iris.data, iris.target\n",
    "\n",
    "\n",
    "number = 100\n",
    "num = [] ; cv_score = [] ; test_score = []\n",
    "\n",
    "for i in range(number):\n",
    "    X_train,X_test,y_train,y_test=train_test_split(X,y,test_size=0.2,shuffle=True,random_state=None,stratify=y)\n",
    "\n",
    "    pipe = make_pipeline(StandardScaler(),\n",
    "                        SVC())\n",
    "    \n",
    "    params = [{'svc__kernel': ['rbf'], 'svc__gamma': [1e-3, 1e-4],'svc__C': [1, 10, 100, 1000]},\n",
    "            {'svc__kernel': ['linear'], 'svc__C': [1, 10, 100, 1000]},\n",
    "            {'svc__kernel':['poly'],'svc__degree':[1,2,3,4,5],'svc__gamma': [1e-3, 1e-4],'svc__C':[1,10,100,1000]},\n",
    "            {'svc__kernel':['sigmoid'],'svc__gamma': [1e-3, 1e-4],'svc__C':[1,10,100,1000]}\n",
    "            ]\n",
    "\n",
    "    grid = GridSearchCV(pipe,\n",
    "                    param_grid=params,\n",
    "                    cv=10)\n",
    "    \n",
    "    grid.fit(X_train,y_train)\n",
    "    \n",
    "    num.append(i+1)\n",
    "    cv_score.append(grid.best_score_)\n",
    "    test_score.append(grid.score(X_test,y_test))\n",
    "    \n",
    "\n",
    "print(cv_score)\n",
    "print(test_score)"
   ]
  },
  {
   "cell_type": "code",
   "execution_count": 4,
   "metadata": {},
   "outputs": [
    {
     "data": {
      "image/png": "[encoded data removed]",
      "text/plain": [
       "<Figure size 432x288 with 1 Axes>"
      ]
     },
     "metadata": {},
     "output_type": "display_data"
    }
   ],
   "source": [
    "plt.scatter(num,list(map(lambda x:x*100,cv_score)),label='CV')\n",
    "plt.scatter(num,list(map(lambda x:x*100,test_score)),label='Test')\n",
    "plt.xlabel('Number of cycle')\n",
    "plt.ylabel('Accuracy(%)')\n",
    "plt.legend()\n",
    "plt.show()"
   ]
  },
  {
   "cell_type": "markdown",
   "metadata": {},
   "source": [
    "#### The above is the combination of the heuristics of the pipeline and KNN learned before, replacing the KNN model with the SVM model. At the same time, the parameters of the grid search are no longer the number of neighbor points and p value of the KNN, but instead become Kernel class, C value, gamma value, degree value."
   ]
  },
  {
   "cell_type": "markdown",
   "metadata": {},
   "source": [
    "## Summary："
   ]
  },
  {
   "cell_type": "markdown",
   "metadata": {},
   "source": [
    "#### It can be seen that in the final combination of this series, the best performance is a linear kernel, where the C value is 100. Here, the result of cross-validation may not be accurate enough. This is a place worth improving. We will continue to explore in the future. "
   ]
  }
 ],
 "metadata": {
  "kernelspec": {
   "display_name": "Python 3.6.5 64-bit ('base': conda)",
   "language": "python",
   "name": "python36564bitbaseconda865026892d534893973d2f3ef2b660fd"
  },
  "language_info": {
   "codemirror_mode": {
    "name": "ipython",
    "version": 3
   },
   "file_extension": ".py",
   "mimetype": "text/x-python",
   "name": "python",
   "nbconvert_exporter": "python",
   "pygments_lexer": "ipython3",
   "version": "3.6.5"
  }
 },
 "nbformat": 4,
 "nbformat_minor": 2
}
