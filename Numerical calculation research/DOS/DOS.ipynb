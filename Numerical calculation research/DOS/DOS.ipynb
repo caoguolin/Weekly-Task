{
 "cells": [
  {
   "cell_type": "markdown",
   "metadata": {},
   "source": [
    "## N（T）"
   ]
  },
  {
   "cell_type": "markdown",
   "metadata": {},
   "source": [
    "### First, clarify the ideas:\n",
    "#### 1. Obtain the DOS file and extract the horizontal and vertical axis data.\n",
    "#### 2. Obtain the Boltzmann constant, the Fermi level parameter of the DOS file is used as a constant for subsequent input.\n",
    "#### 3. Use the differential element method to calculate the integral, divide the area of the image into small trapezoids, dE is the height of the trapezoid, and add up all the small trapezoidal surfaces to get the total integral.\n",
    "#### 4. Calculate the corresponding N(T) value according to the given temperature.\n",
    "#### 5. Input multiple T values, get multiple N values, and draw the image based on these data."
   ]
  },
  {
   "cell_type": "code",
   "execution_count": 7,
   "metadata": {},
   "outputs": [],
   "source": [
    "import math\n",
    "\n",
    "filename = 'TDOS.dat'\n",
    "Ef = 0.0\n",
    "Kb = 1.380649*1e-23\n",
    "ee = 1.6021766208*1e-19\n",
    "\n",
    "\n",
    "def getdos(filen,T):\n",
    "    '''\n",
    "    该函数用于求解N（T）问题\n",
    "    filen为TDOS文件\n",
    "    T为温度\n",
    "    输出为对应温度下的N\n",
    "    '''\n",
    "    a = open(filen,'r')\n",
    "    aa = a.readlines()\n",
    "    dosall = []\n",
    "    for i in range(1,len(aa)):\n",
    "        dos = (aa[i]).split()\n",
    "        dosall.append([float(dos[0]),float(dos[1])])\n",
    "    \n",
    "    def getfE(E,DOSE):\n",
    "        '''\n",
    "        该函数用于求解DOSf（E）\n",
    "        E为对应的能量\n",
    "        输出为f（E）的值\n",
    "        '''\n",
    "        try:\n",
    "            res1 = DOSE/(pow(math.e,(1/(Kb*T))*(E-Ef)*ee)+1) \n",
    "        except:\n",
    "            res1 = 0\n",
    "\n",
    "        return res1\n",
    "    \n",
    "    res = 0\n",
    "    for j in range(0,len(dosall)-1):\n",
    "        h = dosall[j+1][0]-dosall[j][0]\n",
    "        y = (getfE(dosall[j][0],dosall[j][1])+getfE(dosall[j][0],dosall[j][1]))/2\n",
    "        res += h*y\n",
    "    \n",
    "    return res"
   ]
  },
  {
   "cell_type": "markdown",
   "metadata": {},
   "source": [
    "### Generate a set of temperature plots"
   ]
  },
  {
   "cell_type": "code",
   "execution_count": 8,
   "metadata": {},
   "outputs": [
    {
     "data": {
      "image/png": "[encoded data removed]",
      "text/plain": [
       "<Figure size 432x288 with 1 Axes>"
      ]
     },
     "metadata": {},
     "output_type": "display_data"
    }
   ],
   "source": [
    "import matplotlib \n",
    "from matplotlib import pyplot as plt\n",
    "\n",
    "Ts = range(50,1000,50)\n",
    "Ns = []\n",
    "for i in range(len(Ts)):\n",
    "    Ns.append(getdos(filename,Ts[i]))\n",
    "\n",
    "\n",
    "plt.plot(Ts,Ns,color='r')\n",
    "plt.xlabel('T')\n",
    "plt.ylabel('N(T)')\n",
    "plt.title('DOS N(T)')\n",
    "plt.show()\n"
   ]
  },
  {
   "cell_type": "markdown",
   "metadata": {},
   "source": [
    "### For the above code, it is important to note:\n",
    "#### In fact, the solved N(T) is not the actual N(T) calculated according to the formula, because once T exceeds a certain range, the program will report an error value overflow, so a try-expect judgment was made.\n",
    "#### At the same time, the above error also confirms the hypothesis of this procedure: assuming that the Fermi level EF does not change with temperature, in fact the Fermi level changes with temperature. And N does not change with temperature, so finding N when T=0 also finds N in all cases.\n",
    "#### In the numerical calculation of the program, this is also confirmed. When the assumption of the sub-program is followed, that is, EF remains unchanged. Except for T=0, N can be calculated. In other cases, the value will overflow, that is, it cannot be calculated, so in fact This assumption cannot be established."
   ]
  }
 ],
 "metadata": {
  "kernelspec": {
   "display_name": "Python 3",
   "language": "python",
   "name": "python3"
  },
  "language_info": {
   "codemirror_mode": {
    "name": "ipython",
    "version": 3
   },
   "file_extension": ".py",
   "mimetype": "text/x-python",
   "name": "python",
   "nbconvert_exporter": "python",
   "pygments_lexer": "ipython3",
   "version": "3.6.5"
  }
 },
 "nbformat": 4,
 "nbformat_minor": 2
}
