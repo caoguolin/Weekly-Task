{
 "cells": [
  {
   "cell_type": "markdown",
   "metadata": {},
   "source": [
    "## 求解费米能级随温度变化的关系"
   ]
  },
  {
   "cell_type": "markdown",
   "metadata": {},
   "source": [
    "### 大体思路为：\n",
    "#### 1.先用初始的TDOS文件对应温度下的费米能级计算出一个N，求出这个N也就是求出了所有的N。\n",
    "#### 2.改变温度，费米能级EF开始改变，这时用漫步迭代法来逐渐逼近真实值。\n",
    "#### 3.当误差小于规定精度时，可以近似认为就是真实的费米能级。\n",
    "#### 4.给出一组温度，求解它们对应的费米能级，并根据这些数据作图。"
   ]
  },
  {
   "cell_type": "code",
   "execution_count": 1,
   "metadata": {},
   "outputs": [],
   "source": [
    "import math\n",
    "import matplotlib\n",
    "from matplotlib import pyplot as plt\n",
    "\n",
    "\n",
    "filename = 'TDOS.dat'\n",
    "Ef = 0.0\n",
    "Kb = 1.380649*1e-23\n",
    "ee = 1.6021766208*1e-19\n",
    "\n",
    "N = 26.694986300000018  ##运用之前写的DOS脚本获取T=0时对应的N，N现如今为常数"
   ]
  },
  {
   "cell_type": "markdown",
   "metadata": {},
   "source": [
    "#### 以上设置的是一些常数和默认的参数，其中N就是先前求出来的电子总数N"
   ]
  },
  {
   "cell_type": "code",
   "execution_count": 2,
   "metadata": {},
   "outputs": [],
   "source": [
    "def getEF(T,filen,N,precison=1e-4):\n",
    "    '''\n",
    "    该函数用于获取随温度变化的费米能级EF\n",
    "    T为温度\n",
    "    filen为TDOS文件\n",
    "    N为电子数\n",
    "    默认精度为小数点后5位\n",
    "    输出为费米能级EF\n",
    "    '''\n",
    "    ##首先要计算体系在T=0时的N来作为常数\n",
    "    a = open(filen,'r')\n",
    "    aa = a.readlines()\n",
    "    dosall = []\n",
    "    for i in range(1,len(aa)):\n",
    "        dos = (aa[i]).split()\n",
    "        dosall.append([float(dos[0]),float(dos[1])])\n",
    "\n",
    "    ##定义计算N的函数\n",
    "    def getdos(T,EE):\n",
    "        '''\n",
    "        该函数用于求解对应的N\n",
    "        T为温度\n",
    "        EE为费米能级\n",
    "        '''\n",
    "        def getfE(E,DOSE):\n",
    "            '''\n",
    "            该函数用于求解F（E）\n",
    "            E为能量\n",
    "            DOSE为态密度\n",
    "            '''\n",
    "            try:\n",
    "                res1 = DOSE/(pow(math.e,(1/(Kb*T))*(E-EE)*ee)+1) \n",
    "            except:\n",
    "                res1 = 0\n",
    "\n",
    "            return res1\n",
    "        \n",
    "        res2 = 0\n",
    "        for j in range(0,len(dosall)-1):\n",
    "            h = dosall[j+1][0] - dosall[j][0]\n",
    "            y = (getfE(dosall[j][0],dosall[j][1])+getfE(dosall[j][0],dosall[j][1]))/2\n",
    "            res2 += h*y\n",
    "\n",
    "        return res2\n",
    "    \n",
    "    ##设置初始迭代值和步长以及方向,取初始的费米能级大小\n",
    "    initEF = Ef\n",
    "    step = 1e-4\n",
    "    dir = 1\n",
    "    cur_EF = initEF\n",
    "    pro_EF = initEF + step\n",
    "    ##设置一个存储迭代值的列表以便跳出漫步迭代\n",
    "    EEE = []\n",
    "    while abs(getdos(T,pro_EF) - N) > precison:\n",
    "        dis = abs(getdos(T,pro_EF) - N) - abs(getdos(T,cur_EF) - N)\n",
    "        if dis > 0:\n",
    "            dir = dir*(-1)\n",
    "            cur_EF = cur_EF\n",
    "            pro_EF = cur_EF + dir*step\n",
    "        else:\n",
    "            cur_EF = pro_EF\n",
    "            pro_EF = cur_EF + dir*step\n",
    "        if pro_EF not in EEE:\n",
    "            EEE.append(pro_EF)\n",
    "        ##当先前出现的迭代值再次出现时，说明漫步过程回头了，即找到了接近的精确值\n",
    "        else:\n",
    "            break\n",
    "        \n",
    "    return pro_EF"
   ]
  },
  {
   "cell_type": "markdown",
   "metadata": {},
   "source": [
    "#### 主要的函数如上，包括迭代和回代求解验证"
   ]
  },
  {
   "cell_type": "code",
   "execution_count": 3,
   "metadata": {},
   "outputs": [
    {
     "data": {
      "image/png": "[encoded data removed]",
      "text/plain": [
       "<Figure size 432x288 with 1 Axes>"
      ]
     },
     "metadata": {},
     "output_type": "display_data"
    }
   ],
   "source": [
    "Ts = range(50,1000,50)\n",
    "EFs = []\n",
    "for i in range(len(Ts)):\n",
    "    EFs.append(getEF(Ts[i],filename,N))\n",
    "\n",
    "plt.plot(Ts,EFs,color='r')\n",
    "plt.xlabel('T')\n",
    "plt.ylabel('EF')\n",
    "plt.title('EF(T)')\n",
    "plt.show()"
   ]
  },
  {
   "cell_type": "markdown",
   "metadata": {},
   "source": [
    "#### 以上的图像即反应了费米能级随温度变化的一个关系，可以虽然不是线性的，但是总体上一个随温度增大逐渐下降的趋势。"
   ]
  }
 ],
 "metadata": {
  "kernelspec": {
   "display_name": "Python 3",
   "language": "python",
   "name": "python3"
  },
  "language_info": {
   "codemirror_mode": {
    "name": "ipython",
    "version": 3
   },
   "file_extension": ".py",
   "mimetype": "text/x-python",
   "name": "python",
   "nbconvert_exporter": "python",
   "pygments_lexer": "ipython3",
   "version": "3.6.5"
  }
 },
 "nbformat": 4,
 "nbformat_minor": 2
}
