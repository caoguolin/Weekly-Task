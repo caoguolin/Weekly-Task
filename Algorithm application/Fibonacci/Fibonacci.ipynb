{
 "cells": [
  {
   "cell_type": "markdown",
   "metadata": {},
   "source": [
    "# Task1:Fibonacci sequence solution"
   ]
  },
  {
   "cell_type": "markdown",
   "metadata": {},
   "source": [
    "### The Fibonacci sequence can be briefly described as:\n",
    "#### F(0) = 0,   F(1) = 1\n",
    "#### F(N) = F(N - 1) + F(N - 2),  N > 1."
   ]
  },
  {
   "cell_type": "markdown",
   "metadata": {},
   "source": [
    "### There are 5 methods implemented here, namely\n",
    "#### 1.Violent recursion\n",
    "#### 2.Iterative method\n",
    "#### 3.dp bottom-up method\n",
    "#### 4.dp top-down method\n",
    "#### 5.Formula method"
   ]
  },
  {
   "cell_type": "code",
   "execution_count": 1,
   "metadata": {},
   "outputs": [],
   "source": [
    "import time\n",
    "import matplotlib\n",
    "from matplotlib import pyplot as plt\n",
    "from prettytable import PrettyTable\n",
    "\n",
    "def fib1(N):\n",
    "    '''\n",
    "    递归法，不断调用本身\n",
    "    该函数用于求解斐波拉契数列\n",
    "    N为第N项\n",
    "    输出为斐波拉契数列对应的第N项\n",
    "    '''\n",
    "    if N <= 1:\n",
    "        res = N\n",
    "    else:\n",
    "        res = fib1(N-1) + fib1(N-2)\n",
    "    \n",
    "    return res"
   ]
  },
  {
   "cell_type": "markdown",
   "metadata": {},
   "source": [
    "#### The brute force recursion method is the easiest method to implement, but it is also the most computationally intensive method. Its basic principle is to constantly call itself and calculate the two values before N to calculate N. This method is very dull."
   ]
  },
  {
   "cell_type": "code",
   "execution_count": 2,
   "metadata": {},
   "outputs": [],
   "source": [
    "def fib2(N):\n",
    "    '''\n",
    "    迭代法，不断更新当前的结果值\n",
    "    其它说明同上\n",
    "    '''\n",
    "    if N <= 1:\n",
    "        res = N\n",
    "    else:\n",
    "        a,b = 0,1\n",
    "        for i in range(N-1):\n",
    "            a,b = b,a+b\n",
    "        res = b\n",
    "    \n",
    "    return res"
   ]
  },
  {
   "cell_type": "markdown",
   "metadata": {},
   "source": [
    "#### The iterative method is to iteratively update two variables through traversal until the required value is reached. This method is easier to understand and the calculation speed is faster."
   ]
  },
  {
   "cell_type": "code",
   "execution_count": 3,
   "metadata": {},
   "outputs": [],
   "source": [
    "def fib3(N):\n",
    "    '''\n",
    "    dp法，备忘录存储之前算过的数值\n",
    "    可分为自底向上和自顶向下两种\n",
    "    其它说明同上\n",
    "    自底向上\n",
    "    '''\n",
    "    if N <= 1:\n",
    "        res = N\n",
    "    else:\n",
    "        dp = [0]*(N+1)\n",
    "        dp[0],dp[1] = 0,1\n",
    "        for i in range(2,N+1):\n",
    "            dp[i] = dp[i-1] + dp[i-2]\n",
    "        res = dp[N]\n",
    "    \n",
    "    return res"
   ]
  },
  {
   "cell_type": "markdown",
   "metadata": {},
   "source": [
    "#### dp is the dynamic programming method. It can be divided into bottom-up and top-down methods. Here is the bottom-up method. The basic principle is to start with a large empty list, and then in the iterative calculation process Constantly update the calculated value to this list, and finally find the target value in this list."
   ]
  },
  {
   "cell_type": "code",
   "execution_count": 4,
   "metadata": {},
   "outputs": [],
   "source": [
    "def fib4(N):\n",
    "    '''\n",
    "    dp法\n",
    "    自顶向下\n",
    "    '''\n",
    "    dp = [0]*(N+1)\n",
    "    dp[1],dp[2] = 1,1\n",
    "    res = getdp(dp,N)\n",
    "    return  res\n",
    "\n",
    "def getdp(dps,n):\n",
    "    if dps[n] != 0:\n",
    "        return dps[n]\n",
    "    else:\n",
    "        dps[n] = getdp(dps,n-1) + getdp(dps,n-2)\n",
    "        return dps[n]"
   ]
  },
  {
   "cell_type": "markdown",
   "metadata": {},
   "source": [
    "#### As for the top-down method, the idea is roughly the same as the bottom-up method. The same is to use a list to store the previously calculated values, but the bottom-up method is hold the fruit and find the cause, and the top-down is hold the cause and find the fruit."
   ]
  },
  {
   "cell_type": "code",
   "execution_count": 5,
   "metadata": {},
   "outputs": [],
   "source": [
    "def fib5(N):\n",
    "    '''\n",
    "    公式法，直接用数学定义的公式进行求解\n",
    "    其它说明如上\n",
    "    '''\n",
    "    res = (1/pow(5,1/2))*(pow(((1+pow(5,1/2))/2),N)-pow(((1-pow(5,1/2))/2),N))\n",
    "\n",
    "    return int(res)"
   ]
  },
  {
   "cell_type": "markdown",
   "metadata": {},
   "source": [
    "#### The formula method is the fastest and easiest method and does not involve algorithmic issues, so I won't go into details here."
   ]
  },
  {
   "cell_type": "code",
   "execution_count": 6,
   "metadata": {},
   "outputs": [
    {
     "name": "stdout",
     "output_type": "stream",
     "text": [
      "迭代：\n",
      "result:354224848179261915075 , time:3.1299999999999995e-05\n",
      "dp自底向上：\n",
      "result:354224848179261915075 , time:3.19e-05\n",
      "dp自顶向下：\n",
      "result:354224848179261915075 , time:6.16e-05\n",
      "公式法：\n",
      "result:354224848179263111168 , time:2.67e-05\n"
     ]
    }
   ],
   "source": [
    "# t0 = time.clock()\n",
    "# res1 = fib1(100)\n",
    "t1 = time.clock()\n",
    "res2 = fib2(100)\n",
    "t2 = time.clock()\n",
    "res3 = fib3(100)\n",
    "t3 = time.clock()\n",
    "res4 = fib4(100)\n",
    "t4 = time.clock()\n",
    "res5 = fib5(100)\n",
    "t5 = time.clock()\n",
    "\n",
    "# tt1,tt2,tt3,tt4,tt5 = t1-t0,t2-t1,t3-t2,t4-t3,t5-t4\n",
    "tt2,tt3,tt4,tt5 = t2-t1,t3-t2,t4-t3,t5-t4\n",
    "# print('暴力递归：'+tt1)\n",
    "print('迭代：')\n",
    "print('result:'+str(res2)+' , '+'time:'+str(tt2))\n",
    "print('dp自底向上：')\n",
    "print('result:'+str(res3)+' , '+'time:'+str(tt3))\n",
    "print('dp自顶向下：')\n",
    "print('result:'+str(res4)+' , '+'time:'+str(tt4))\n",
    "print('公式法：')\n",
    "print('result:'+str(res5)+' , '+'time:'+str(tt5))"
   ]
  },
  {
   "cell_type": "markdown",
   "metadata": {},
   "source": [
    "#### Because the running time of the brute force recursion method is too long, no comparison is made here, and it will be explained later."
   ]
  },
  {
   "cell_type": "code",
   "execution_count": 7,
   "metadata": {},
   "outputs": [
    {
     "data": {
      "image/png": "[encoded data removed]",
      "text/plain": [
       "<Figure size 432x288 with 1 Axes>"
      ]
     },
     "metadata": {},
     "output_type": "display_data"
    }
   ],
   "source": [
    "matplotlib.rcParams['font.sans-serif'] = ['SimHei']\n",
    "x = ['迭代','dp底上','dp顶下','公式']\n",
    "y = [tt2,tt3,tt4,tt5]\n",
    "\n",
    "plt.bar(x,y,color='r')\n",
    "\n",
    "plt.xlabel('method')\n",
    "plt.ylabel('time')\n",
    "plt.title('running time of different methods')\n",
    "plt.show()"
   ]
  },
  {
   "cell_type": "markdown",
   "metadata": {},
   "source": [
    "#### It can be seen that the time of the four methods is basically equal. So what is the order of their time consumption actually?"
   ]
  },
  {
   "cell_type": "markdown",
   "metadata": {},
   "source": [
    "#### Here we need to mention the concepts of time complexity and space complexity, which can be literally understood as the former is the time that the computer is running while the latter is the memory."
   ]
  },
  {
   "cell_type": "markdown",
   "metadata": {},
   "source": [
    "### Regarding time complexity and space complexity, the specific definitions and judgment methods will not be repeated. Here we will analyze the five methods one by one:\n",
    "\n",
    "#### 1. Method 1: Since there is no memory, it must call itself to solve the first two values every time, so it can be regarded as a top-down binary tree, and this tree does not prune the repeated branches , So its time complexity is exponential (each solution is independent and calculated from scratch). And its space complexity, its calling stack is all the values before N, so it is N."
   ]
  },
  {
   "cell_type": "markdown",
   "metadata": {},
   "source": [
    "#### 2. Method 2: Its overall process is a traversal, and the length of the traversal is N, so its time complexity is N, and the space complexity is very small because it only uses a and b."
   ]
  },
  {
   "cell_type": "markdown",
   "metadata": {},
   "source": [
    "#### 3. Method 3: For the bottom-up dynamic programming method, it is also a traversal process, but it calls an array of length N. So its space complexity will be larger than recursive method."
   ]
  },
  {
   "cell_type": "markdown",
   "metadata": {},
   "source": [
    "#### 4. Method 4: For the top-down dynamic programming method, although it looks more complicated than the bottom-up method, the principle is similar. Both use a large list and have been calculated N times. The difference is that the top-down is what is known to be required and goes back to the starting point, while the bottom-up is to iterate from the starting point and then iterate to the place where the requirement is required.#### "
   ]
  },
  {
   "cell_type": "markdown",
   "metadata": {},
   "source": [
    "#### 5. Method 5: The formula method is the most concise, and it does not involve algorithmic problems. Since it is directly substituted with N into the calculation, the time and space complexity are both 1."
   ]
  },
  {
   "cell_type": "code",
   "execution_count": 8,
   "metadata": {},
   "outputs": [
    {
     "name": "stdout",
     "output_type": "stream",
     "text": [
      "+------------+-----------------+------------------+\n",
      "|   Method   | Time complexity | Space complexity |\n",
      "+------------+-----------------+------------------+\n",
      "|  暴力递归  |      O(2^N)     |       O(N)       |\n",
      "|    迭代    |       O(N)      |       O(1)       |\n",
      "| dp自底向上 |       O(N)      |       O(N)       |\n",
      "| dp自顶向下 |       O(N)      |       O(N)       |\n",
      "|   公式法   |       O(1)      |       O(1)       |\n",
      "+------------+-----------------+------------------+\n"
     ]
    }
   ],
   "source": [
    "xx = PrettyTable(['Method','Time complexity','Space complexity'])\n",
    "xx.add_row(['暴力递归','O(2^N)','O(N)'])\n",
    "xx.add_row(['迭代','O(N)','O(1)'])\n",
    "xx.add_row(['dp自底向上','O(N)','O(N)'])\n",
    "xx.add_row(['dp自顶向下','O(N)','O(N)'])\n",
    "xx.add_row(['公式法','O(1)','O(1)'])\n",
    "print(xx)"
   ]
  },
  {
   "cell_type": "markdown",
   "metadata": {},
   "source": [
    "#### The above table better compares the complexity of these 5 methods.\n",
    "#### It can be seen that the worst method is the recursive method, when N is relatively large, this method is very cumbersome.\n",
    "#### The simplest method is naturally the formula method, but the formula method has a certain particularity and does not involve algorithmic problems. Not very universal.\n",
    "#### The method that is both universal and simple (the best overall performance) is the iterative method.\n",
    "#### It should be noted that the superiority of the algorithm is often reflected only when the calculation data is large or the calculation task is very heavy, so sometimes it is not possible to simply look at the running time to evaluate the performance of the algorithm.\n",
    "### Computing the time complexity and space complexity of an algorithm is the most scientific method."
   ]
  }
 ],
 "metadata": {
  "kernelspec": {
   "display_name": "Python 3",
   "language": "python",
   "name": "python3"
  },
  "language_info": {
   "codemirror_mode": {
    "name": "ipython",
    "version": 3
   },
   "file_extension": ".py",
   "mimetype": "text/x-python",
   "name": "python",
   "nbconvert_exporter": "python",
   "pygments_lexer": "ipython3",
   "version": "3.6.5"
  }
 },
 "nbformat": 4,
 "nbformat_minor": 2
}
